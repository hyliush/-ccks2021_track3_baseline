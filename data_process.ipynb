{
 "cells": [
  {
   "cell_type": "code",
   "execution_count": 2,
   "metadata": {},
   "outputs": [],
   "source": [
    "import json\n",
    "f_train=open('./data/train.txt','w',encoding='utf8')\n",
    "f_dev=open('./data/dev.txt','w',encoding='utf8')\n",
    "num=0\n",
    "for line in open('./data/Xeon3NLP_round1_train_20210524.txt','r',encoding='utf8'):\n",
    "    t = json.loads(line)\n",
    "    for j in t['candidate']:\n",
    "        l = dict()\n",
    "        l['query'] = str(t['query'])\n",
    "        l['title'] = str(j['text'])\n",
    "        if j['label'] == '不匹配':\n",
    "            l['label'] = 0\n",
    "        elif j['label'] == '完全匹配':\n",
    "            l['label'] = 2\n",
    "        else:\n",
    "            l['label'] = 1\n",
    "        if num <18000:\n",
    "            __=f_train.write(json.dumps(l,ensure_ascii=False))\n",
    "            __=f_train.write('\\n')\n",
    "        else:\n",
    "            __=f_dev.write(json.dumps(l,ensure_ascii=False))\n",
    "            __=f_dev.write('\\n') \n",
    "    num+=1"
   ]
  }
 ],
 "metadata": {
  "kernelspec": {
   "display_name": "Python 3",
   "language": "python",
   "name": "python3"
  },
  "language_info": {
   "codemirror_mode": {
    "name": "ipython",
    "version": 3
   },
   "file_extension": ".py",
   "mimetype": "text/x-python",
   "name": "python",
   "nbconvert_exporter": "python",
   "pygments_lexer": "ipython3",
   "version": "3.7.6"
  }
 },
 "nbformat": 4,
 "nbformat_minor": 4
}
